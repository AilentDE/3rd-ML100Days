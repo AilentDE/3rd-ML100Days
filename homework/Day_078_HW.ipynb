{
 "cells": [
  {
   "cell_type": "markdown",
   "metadata": {},
   "source": [
    "## Work\n",
    "1. 請嘗試將 preproc_x 替換成以每筆資料的 min/max 進行標準化至 -1 ~ 1 間，再進行訓練\n",
    "2. 請嘗試將 mlp 疊更深 (e.g 5~10 層)，進行訓練後觀察 learning curve 的走勢\n",
    "3. (optional) 請改用 GPU 進行訓練 (如果你有 GPU 的話)，比較使用 CPU 與 GPU 的訓練速度"
   ]
  },
  {
   "cell_type": "code",
   "execution_count": 1,
   "metadata": {},
   "outputs": [
    {
     "data": {
      "text/plain": [
       "'\\nYour code here (optional)\\n確認硬體資源\\n'"
      ]
     },
     "execution_count": 1,
     "metadata": {},
     "output_type": "execute_result"
    }
   ],
   "source": [
    "## \n",
    "\"\"\"\n",
    "Your code here (optional)\n",
    "確認硬體資源\n",
    "\"\"\"\n"
   ]
  },
  {
   "cell_type": "code",
   "execution_count": 2,
   "metadata": {},
   "outputs": [
    {
     "name": "stderr",
     "output_type": "stream",
     "text": [
      "Using TensorFlow backend.\n"
     ]
    }
   ],
   "source": [
    "import os\n",
    "import keras\n",
    "\n",
    "# 請嘗試設定 GPU：os.environ\n"
   ]
  },
  {
   "cell_type": "code",
   "execution_count": 3,
   "metadata": {},
   "outputs": [],
   "source": [
    "train, test = keras.datasets.cifar10.load_data()"
   ]
  },
  {
   "cell_type": "code",
   "execution_count": 4,
   "metadata": {},
   "outputs": [
    {
     "data": {
      "text/plain": [
       "0"
      ]
     },
     "execution_count": 4,
     "metadata": {},
     "output_type": "execute_result"
    }
   ],
   "source": [
    "train[0].min()"
   ]
  },
  {
   "cell_type": "code",
   "execution_count": 5,
   "metadata": {},
   "outputs": [],
   "source": [
    "## 資料前處理\n",
    "\"\"\"\n",
    "Your code here\n",
    "\"\"\"\n",
    "def preproc_x(x, flatten=True):\n",
    "    x = (x-127.5) / 127.5\n",
    "    if flatten:\n",
    "        x = x.reshape(len(x), -1)\n",
    "    return x\n",
    "\n",
    "def preproc_y(y, num_classes=10):\n",
    "    if y.shape[-1] == 1:\n",
    "        y = keras.utils.to_categorical(y, num_classes)\n",
    "    return y"
   ]
  },
  {
   "cell_type": "code",
   "execution_count": 6,
   "metadata": {},
   "outputs": [],
   "source": [
    "x_train, y_train = train\n",
    "x_test, y_test = test\n",
    "\n",
    "# Preproc the inputs\n",
    "x_train = preproc_x(x_train)\n",
    "x_test = preproc_x(x_test)\n",
    "\n",
    "# Preprc the outputs\n",
    "y_train = preproc_y(y_train)\n",
    "y_test = preproc_y(y_test)"
   ]
  },
  {
   "cell_type": "code",
   "execution_count": 7,
   "metadata": {},
   "outputs": [
    {
     "name": "stdout",
     "output_type": "stream",
     "text": [
      "Model: \"model_1\"\n",
      "_________________________________________________________________\n",
      "Layer (type)                 Output Shape              Param #   \n",
      "=================================================================\n",
      "input_1 (InputLayer)         (None, 3072)              0         \n",
      "_________________________________________________________________\n",
      "hidden_layer1 (Dense)        (None, 256)               786688    \n",
      "_________________________________________________________________\n",
      "hidden_layer2 (Dense)        (None, 512)               131584    \n",
      "_________________________________________________________________\n",
      "hidden_layer3 (Dense)        (None, 512)               262656    \n",
      "_________________________________________________________________\n",
      "hidden_layer4 (Dense)        (None, 256)               131328    \n",
      "_________________________________________________________________\n",
      "hidden_layer5 (Dense)        (None, 128)               32896     \n",
      "_________________________________________________________________\n",
      "output (Dense)               (None, 10)                1290      \n",
      "=================================================================\n",
      "Total params: 1,346,442\n",
      "Trainable params: 1,346,442\n",
      "Non-trainable params: 0\n",
      "_________________________________________________________________\n"
     ]
    }
   ],
   "source": [
    "\"\"\"Code Here\n",
    "建立你的神經網路\n",
    "\"\"\"\n",
    "def build_mlp(input_shape, output_units=10, num_neurons=[256, 512, 512, 256, 128]):\n",
    "    input_layer = keras.layers.Input(input_shape)\n",
    "    \n",
    "    for i, n_units in enumerate(num_neurons):\n",
    "        if i == 0:\n",
    "            x = keras.layers.Dense(units=n_units, activation='relu', name='hidden_layer'+str(i+1))(input_layer)\n",
    "        else:\n",
    "            x = keras.layers.Dense(units=n_units, activation='relu', name='hidden_layer'+str(i+1))(x)\n",
    "        \n",
    "    out = keras.layers.Dense(units=output_units, activation='softmax', name='output')(x)\n",
    "    \n",
    "    model = keras.models.Model(inputs=[input_layer], outputs=[out])\n",
    "    return model\n",
    "    \n",
    "model = build_mlp(input_shape=x_train.shape[1:])\n",
    "model.summary()"
   ]
  },
  {
   "cell_type": "code",
   "execution_count": 8,
   "metadata": {},
   "outputs": [],
   "source": [
    "## 超參數設定\n",
    "LEARNING_RATE = 0.001\n",
    "EPOCHS = 100\n",
    "BATCH_SIZE = 256"
   ]
  },
  {
   "cell_type": "code",
   "execution_count": 9,
   "metadata": {},
   "outputs": [],
   "source": [
    "optimizer = keras.optimizers.Adam(lr=LEARNING_RATE)\n",
    "model.compile(loss=\"categorical_crossentropy\", metrics=[\"accuracy\"], optimizer=optimizer)"
   ]
  },
  {
   "cell_type": "code",
   "execution_count": 10,
   "metadata": {
    "scrolled": true
   },
   "outputs": [
    {
     "name": "stdout",
     "output_type": "stream",
     "text": [
      "Train on 50000 samples, validate on 10000 samples\n",
      "Epoch 1/100\n",
      "50000/50000 [==============================] - 6s 113us/step - loss: 1.6748 - accuracy: 0.4028 - val_loss: 1.5504 - val_accuracy: 0.4528\n",
      "Epoch 2/100\n",
      "50000/50000 [==============================] - 5s 108us/step - loss: 1.4418 - accuracy: 0.4911 - val_loss: 1.4249 - val_accuracy: 0.4999\n",
      "Epoch 3/100\n",
      "50000/50000 [==============================] - 5s 108us/step - loss: 1.3223 - accuracy: 0.5297 - val_loss: 1.3834 - val_accuracy: 0.5131\n",
      "Epoch 4/100\n",
      "50000/50000 [==============================] - 6s 111us/step - loss: 1.2196 - accuracy: 0.5674 - val_loss: 1.3516 - val_accuracy: 0.5283\n",
      "Epoch 5/100\n",
      "50000/50000 [==============================] - 5s 109us/step - loss: 1.1255 - accuracy: 0.5997 - val_loss: 1.3661 - val_accuracy: 0.5238\n",
      "Epoch 6/100\n",
      "50000/50000 [==============================] - 5s 109us/step - loss: 1.0388 - accuracy: 0.6288 - val_loss: 1.3486 - val_accuracy: 0.5330\n",
      "Epoch 7/100\n",
      "50000/50000 [==============================] - 5s 109us/step - loss: 0.9493 - accuracy: 0.6613 - val_loss: 1.3652 - val_accuracy: 0.5362\n",
      "Epoch 8/100\n",
      "50000/50000 [==============================] - 5s 109us/step - loss: 0.8658 - accuracy: 0.6904 - val_loss: 1.4504 - val_accuracy: 0.5358\n",
      "Epoch 9/100\n",
      "50000/50000 [==============================] - 5s 109us/step - loss: 0.7744 - accuracy: 0.7242 - val_loss: 1.4791 - val_accuracy: 0.5334\n",
      "Epoch 10/100\n",
      "50000/50000 [==============================] - 5s 109us/step - loss: 0.6963 - accuracy: 0.7482 - val_loss: 1.5968 - val_accuracy: 0.5332\n",
      "Epoch 11/100\n",
      "50000/50000 [==============================] - 5s 109us/step - loss: 0.6026 - accuracy: 0.7834 - val_loss: 1.6359 - val_accuracy: 0.5439\n",
      "Epoch 12/100\n",
      "50000/50000 [==============================] - 5s 109us/step - loss: 0.5285 - accuracy: 0.8124 - val_loss: 1.7857 - val_accuracy: 0.5309\n",
      "Epoch 13/100\n",
      "50000/50000 [==============================] - 6s 110us/step - loss: 0.4634 - accuracy: 0.8341 - val_loss: 1.9433 - val_accuracy: 0.5342\n",
      "Epoch 14/100\n",
      "50000/50000 [==============================] - 6s 111us/step - loss: 0.4163 - accuracy: 0.8520 - val_loss: 2.1113 - val_accuracy: 0.5355\n",
      "Epoch 15/100\n",
      "50000/50000 [==============================] - 5s 110us/step - loss: 0.3564 - accuracy: 0.8742 - val_loss: 2.1558 - val_accuracy: 0.5289\n",
      "Epoch 16/100\n",
      "50000/50000 [==============================] - 5s 110us/step - loss: 0.3191 - accuracy: 0.8862 - val_loss: 2.2571 - val_accuracy: 0.5366\n",
      "Epoch 17/100\n",
      "50000/50000 [==============================] - 5s 110us/step - loss: 0.2918 - accuracy: 0.8957 - val_loss: 2.2951 - val_accuracy: 0.5207\n",
      "Epoch 18/100\n",
      "50000/50000 [==============================] - 5s 110us/step - loss: 0.2554 - accuracy: 0.9109 - val_loss: 2.5468 - val_accuracy: 0.5310\n",
      "Epoch 19/100\n",
      "50000/50000 [==============================] - 5s 110us/step - loss: 0.2327 - accuracy: 0.9202 - val_loss: 2.5665 - val_accuracy: 0.5297\n",
      "Epoch 20/100\n",
      "50000/50000 [==============================] - 5s 110us/step - loss: 0.2133 - accuracy: 0.9249 - val_loss: 2.6972 - val_accuracy: 0.5277\n",
      "Epoch 21/100\n",
      "50000/50000 [==============================] - 5s 110us/step - loss: 0.2060 - accuracy: 0.9301 - val_loss: 2.8521 - val_accuracy: 0.5169\n",
      "Epoch 22/100\n",
      "50000/50000 [==============================] - 5s 110us/step - loss: 0.2069 - accuracy: 0.9293 - val_loss: 2.8348 - val_accuracy: 0.5263\n",
      "Epoch 23/100\n",
      "50000/50000 [==============================] - 5s 110us/step - loss: 0.1647 - accuracy: 0.9440 - val_loss: 3.0686 - val_accuracy: 0.5255\n",
      "Epoch 24/100\n",
      "50000/50000 [==============================] - 6s 110us/step - loss: 0.1606 - accuracy: 0.9455 - val_loss: 3.1341 - val_accuracy: 0.5295\n",
      "Epoch 25/100\n",
      "50000/50000 [==============================] - 6s 110us/step - loss: 0.1534 - accuracy: 0.9479 - val_loss: 3.2055 - val_accuracy: 0.5278\n",
      "Epoch 26/100\n",
      "50000/50000 [==============================] - 5s 110us/step - loss: 0.1456 - accuracy: 0.9499 - val_loss: 3.2811 - val_accuracy: 0.5350\n",
      "Epoch 27/100\n",
      "50000/50000 [==============================] - 5s 110us/step - loss: 0.1339 - accuracy: 0.9561 - val_loss: 3.3555 - val_accuracy: 0.5313\n",
      "Epoch 28/100\n",
      "50000/50000 [==============================] - 5s 110us/step - loss: 0.1509 - accuracy: 0.9496 - val_loss: 3.1038 - val_accuracy: 0.5345\n",
      "Epoch 29/100\n",
      "50000/50000 [==============================] - 5s 110us/step - loss: 0.1214 - accuracy: 0.9599 - val_loss: 3.3333 - val_accuracy: 0.5290\n",
      "Epoch 30/100\n",
      "50000/50000 [==============================] - 5s 110us/step - loss: 0.1338 - accuracy: 0.9547 - val_loss: 3.2836 - val_accuracy: 0.5247\n",
      "Epoch 31/100\n",
      "50000/50000 [==============================] - 5s 110us/step - loss: 0.1254 - accuracy: 0.9566 - val_loss: 3.5113 - val_accuracy: 0.5270\n",
      "Epoch 32/100\n",
      "50000/50000 [==============================] - 5s 110us/step - loss: 0.1264 - accuracy: 0.9574 - val_loss: 3.4660 - val_accuracy: 0.5244\n",
      "Epoch 33/100\n",
      "50000/50000 [==============================] - 5s 109us/step - loss: 0.1103 - accuracy: 0.9630 - val_loss: 3.7008 - val_accuracy: 0.5284\n",
      "Epoch 34/100\n",
      "50000/50000 [==============================] - 6s 110us/step - loss: 0.1180 - accuracy: 0.9608 - val_loss: 3.6693 - val_accuracy: 0.5282\n",
      "Epoch 35/100\n",
      "50000/50000 [==============================] - 6s 112us/step - loss: 0.1048 - accuracy: 0.9651 - val_loss: 3.5941 - val_accuracy: 0.5262\n",
      "Epoch 36/100\n",
      "50000/50000 [==============================] - 6s 111us/step - loss: 0.1142 - accuracy: 0.9631 - val_loss: 3.6890 - val_accuracy: 0.5307\n",
      "Epoch 37/100\n",
      "50000/50000 [==============================] - 5s 110us/step - loss: 0.1020 - accuracy: 0.9668 - val_loss: 3.7512 - val_accuracy: 0.5352\n",
      "Epoch 38/100\n",
      "50000/50000 [==============================] - 6s 111us/step - loss: 0.1001 - accuracy: 0.9676 - val_loss: 3.7582 - val_accuracy: 0.5251\n",
      "Epoch 39/100\n",
      "50000/50000 [==============================] - 6s 110us/step - loss: 0.1120 - accuracy: 0.9636 - val_loss: 3.6577 - val_accuracy: 0.5308\n",
      "Epoch 40/100\n",
      "50000/50000 [==============================] - 5s 110us/step - loss: 0.0919 - accuracy: 0.9706 - val_loss: 3.5955 - val_accuracy: 0.5266\n",
      "Epoch 41/100\n",
      "50000/50000 [==============================] - 6s 110us/step - loss: 0.0918 - accuracy: 0.9702 - val_loss: 3.6619 - val_accuracy: 0.5265\n",
      "Epoch 42/100\n",
      "50000/50000 [==============================] - 6s 111us/step - loss: 0.1152 - accuracy: 0.9630 - val_loss: 3.6535 - val_accuracy: 0.5254\n",
      "Epoch 43/100\n",
      "50000/50000 [==============================] - 6s 110us/step - loss: 0.0914 - accuracy: 0.9698 - val_loss: 3.7778 - val_accuracy: 0.5325\n",
      "Epoch 44/100\n",
      "50000/50000 [==============================] - 6s 110us/step - loss: 0.0942 - accuracy: 0.9690 - val_loss: 3.9514 - val_accuracy: 0.5313\n",
      "Epoch 45/100\n",
      "50000/50000 [==============================] - 6s 111us/step - loss: 0.0909 - accuracy: 0.9705 - val_loss: 3.8594 - val_accuracy: 0.5278\n",
      "Epoch 46/100\n",
      "50000/50000 [==============================] - 6s 110us/step - loss: 0.0845 - accuracy: 0.9723 - val_loss: 3.9749 - val_accuracy: 0.5297\n",
      "Epoch 47/100\n",
      "50000/50000 [==============================] - 5s 110us/step - loss: 0.0922 - accuracy: 0.9701 - val_loss: 3.8838 - val_accuracy: 0.5289\n",
      "Epoch 48/100\n",
      "50000/50000 [==============================] - 6s 112us/step - loss: 0.0792 - accuracy: 0.9745 - val_loss: 4.0706 - val_accuracy: 0.5290\n",
      "Epoch 49/100\n",
      "50000/50000 [==============================] - 6s 110us/step - loss: 0.0845 - accuracy: 0.9728 - val_loss: 3.9468 - val_accuracy: 0.5358\n",
      "Epoch 50/100\n",
      "50000/50000 [==============================] - 6s 110us/step - loss: 0.0917 - accuracy: 0.9693 - val_loss: 3.8305 - val_accuracy: 0.5335\n",
      "Epoch 51/100\n",
      "50000/50000 [==============================] - 6s 110us/step - loss: 0.0683 - accuracy: 0.9784 - val_loss: 4.1253 - val_accuracy: 0.5333\n",
      "Epoch 52/100\n",
      "50000/50000 [==============================] - 6s 110us/step - loss: 0.0781 - accuracy: 0.9755 - val_loss: 4.1770 - val_accuracy: 0.5191\n",
      "Epoch 53/100\n",
      "50000/50000 [==============================] - 6s 110us/step - loss: 0.0959 - accuracy: 0.9689 - val_loss: 3.9900 - val_accuracy: 0.5292\n",
      "Epoch 54/100\n",
      "50000/50000 [==============================] - 6s 110us/step - loss: 0.0794 - accuracy: 0.9752 - val_loss: 3.9765 - val_accuracy: 0.5305\n",
      "Epoch 55/100\n"
     ]
    },
    {
     "name": "stdout",
     "output_type": "stream",
     "text": [
      "50000/50000 [==============================] - 6s 114us/step - loss: 0.0787 - accuracy: 0.9748 - val_loss: 3.9239 - val_accuracy: 0.5319\n",
      "Epoch 56/100\n",
      "50000/50000 [==============================] - 5s 110us/step - loss: 0.0767 - accuracy: 0.9753 - val_loss: 4.0658 - val_accuracy: 0.5338\n",
      "Epoch 57/100\n",
      "50000/50000 [==============================] - 5s 110us/step - loss: 0.0749 - accuracy: 0.9764 - val_loss: 4.0944 - val_accuracy: 0.5331\n",
      "Epoch 58/100\n",
      "50000/50000 [==============================] - 5s 110us/step - loss: 0.0748 - accuracy: 0.9753 - val_loss: 4.0122 - val_accuracy: 0.5269\n",
      "Epoch 59/100\n",
      "50000/50000 [==============================] - 5s 110us/step - loss: 0.0795 - accuracy: 0.9755 - val_loss: 4.1215 - val_accuracy: 0.5245\n",
      "Epoch 60/100\n",
      "50000/50000 [==============================] - 5s 110us/step - loss: 0.0589 - accuracy: 0.9816 - val_loss: 4.2257 - val_accuracy: 0.5307\n",
      "Epoch 61/100\n",
      "50000/50000 [==============================] - 5s 110us/step - loss: 0.0664 - accuracy: 0.9786 - val_loss: 4.1826 - val_accuracy: 0.5264\n",
      "Epoch 62/100\n",
      "50000/50000 [==============================] - 5s 110us/step - loss: 0.0909 - accuracy: 0.9711 - val_loss: 3.9002 - val_accuracy: 0.5263\n",
      "Epoch 63/100\n",
      "50000/50000 [==============================] - 5s 109us/step - loss: 0.0597 - accuracy: 0.9822 - val_loss: 4.1658 - val_accuracy: 0.5268\n",
      "Epoch 64/100\n",
      "50000/50000 [==============================] - 5s 110us/step - loss: 0.0783 - accuracy: 0.9753 - val_loss: 3.8682 - val_accuracy: 0.5276\n",
      "Epoch 65/100\n",
      "50000/50000 [==============================] - 5s 109us/step - loss: 0.0696 - accuracy: 0.9781 - val_loss: 4.0442 - val_accuracy: 0.5324\n",
      "Epoch 66/100\n",
      "50000/50000 [==============================] - 5s 109us/step - loss: 0.0592 - accuracy: 0.9806 - val_loss: 4.1986 - val_accuracy: 0.5301\n",
      "Epoch 67/100\n",
      "50000/50000 [==============================] - 5s 109us/step - loss: 0.0701 - accuracy: 0.9788 - val_loss: 4.1209 - val_accuracy: 0.5286\n",
      "Epoch 68/100\n",
      "50000/50000 [==============================] - 5s 109us/step - loss: 0.0693 - accuracy: 0.9782 - val_loss: 4.0219 - val_accuracy: 0.5304\n",
      "Epoch 69/100\n",
      "50000/50000 [==============================] - 5s 110us/step - loss: 0.0688 - accuracy: 0.9784 - val_loss: 4.1130 - val_accuracy: 0.5334\n",
      "Epoch 70/100\n",
      "50000/50000 [==============================] - 5s 109us/step - loss: 0.0723 - accuracy: 0.9777 - val_loss: 4.0093 - val_accuracy: 0.5320\n",
      "Epoch 71/100\n",
      "50000/50000 [==============================] - 5s 110us/step - loss: 0.0508 - accuracy: 0.9838 - val_loss: 4.2702 - val_accuracy: 0.5331\n",
      "Epoch 72/100\n",
      "50000/50000 [==============================] - 5s 110us/step - loss: 0.0616 - accuracy: 0.9807 - val_loss: 4.1722 - val_accuracy: 0.5275\n",
      "Epoch 73/100\n",
      "50000/50000 [==============================] - 5s 110us/step - loss: 0.0713 - accuracy: 0.9776 - val_loss: 4.0672 - val_accuracy: 0.5347\n",
      "Epoch 74/100\n",
      "50000/50000 [==============================] - 5s 110us/step - loss: 0.0637 - accuracy: 0.9796 - val_loss: 4.1373 - val_accuracy: 0.5263\n",
      "Epoch 75/100\n",
      "50000/50000 [==============================] - 5s 110us/step - loss: 0.0621 - accuracy: 0.9811 - val_loss: 4.1246 - val_accuracy: 0.5299\n",
      "Epoch 76/100\n",
      "50000/50000 [==============================] - 5s 110us/step - loss: 0.0503 - accuracy: 0.9841 - val_loss: 4.4015 - val_accuracy: 0.5285\n",
      "Epoch 77/100\n",
      "50000/50000 [==============================] - 5s 110us/step - loss: 0.0820 - accuracy: 0.9745 - val_loss: 4.0663 - val_accuracy: 0.5339\n",
      "Epoch 78/100\n",
      "50000/50000 [==============================] - 5s 110us/step - loss: 0.0533 - accuracy: 0.9822 - val_loss: 4.2136 - val_accuracy: 0.5296\n",
      "Epoch 79/100\n",
      "50000/50000 [==============================] - 5s 110us/step - loss: 0.0620 - accuracy: 0.9801 - val_loss: 4.2217 - val_accuracy: 0.5327\n",
      "Epoch 80/100\n",
      "50000/50000 [==============================] - 5s 110us/step - loss: 0.0504 - accuracy: 0.9836 - val_loss: 4.3972 - val_accuracy: 0.5371\n",
      "Epoch 81/100\n",
      "50000/50000 [==============================] - 5s 110us/step - loss: 0.0554 - accuracy: 0.9833 - val_loss: 4.1275 - val_accuracy: 0.5274\n",
      "Epoch 82/100\n",
      "50000/50000 [==============================] - 6s 110us/step - loss: 0.0645 - accuracy: 0.9797 - val_loss: 4.1593 - val_accuracy: 0.5296\n",
      "Epoch 83/100\n",
      "50000/50000 [==============================] - 5s 110us/step - loss: 0.0595 - accuracy: 0.9810 - val_loss: 4.2423 - val_accuracy: 0.5341\n",
      "Epoch 84/100\n",
      "50000/50000 [==============================] - 5s 110us/step - loss: 0.0567 - accuracy: 0.9826 - val_loss: 4.2003 - val_accuracy: 0.5311\n",
      "Epoch 85/100\n",
      "50000/50000 [==============================] - 5s 110us/step - loss: 0.0437 - accuracy: 0.9861 - val_loss: 4.4845 - val_accuracy: 0.5351\n",
      "Epoch 86/100\n",
      "50000/50000 [==============================] - 5s 110us/step - loss: 0.0592 - accuracy: 0.9814 - val_loss: 4.2458 - val_accuracy: 0.5328\n",
      "Epoch 87/100\n",
      "50000/50000 [==============================] - 5s 110us/step - loss: 0.0611 - accuracy: 0.9812 - val_loss: 4.1386 - val_accuracy: 0.5316\n",
      "Epoch 88/100\n",
      "50000/50000 [==============================] - 5s 110us/step - loss: 0.0454 - accuracy: 0.9863 - val_loss: 4.5386 - val_accuracy: 0.5291\n",
      "Epoch 89/100\n",
      "50000/50000 [==============================] - 6s 110us/step - loss: 0.0590 - accuracy: 0.9820 - val_loss: 4.1288 - val_accuracy: 0.5267\n",
      "Epoch 90/100\n",
      "50000/50000 [==============================] - 6s 110us/step - loss: 0.0613 - accuracy: 0.9810 - val_loss: 4.1598 - val_accuracy: 0.5281\n",
      "Epoch 91/100\n",
      "50000/50000 [==============================] - 5s 110us/step - loss: 0.0524 - accuracy: 0.9836 - val_loss: 4.3940 - val_accuracy: 0.5288\n",
      "Epoch 92/100\n",
      "50000/50000 [==============================] - 6s 110us/step - loss: 0.0630 - accuracy: 0.9804 - val_loss: 4.1471 - val_accuracy: 0.5334\n",
      "Epoch 93/100\n",
      "50000/50000 [==============================] - 6s 111us/step - loss: 0.0426 - accuracy: 0.9871 - val_loss: 4.3295 - val_accuracy: 0.5318\n",
      "Epoch 94/100\n",
      "50000/50000 [==============================] - 5s 110us/step - loss: 0.0476 - accuracy: 0.9850 - val_loss: 4.3648 - val_accuracy: 0.5324\n",
      "Epoch 95/100\n",
      "50000/50000 [==============================] - 5s 110us/step - loss: 0.0438 - accuracy: 0.9865 - val_loss: 4.3961 - val_accuracy: 0.5297\n",
      "Epoch 96/100\n",
      "50000/50000 [==============================] - 5s 110us/step - loss: 0.0423 - accuracy: 0.9869 - val_loss: 4.5631 - val_accuracy: 0.5378\n",
      "Epoch 97/100\n",
      "50000/50000 [==============================] - 6s 110us/step - loss: 0.0558 - accuracy: 0.9833 - val_loss: 4.3369 - val_accuracy: 0.5288\n",
      "Epoch 98/100\n",
      "50000/50000 [==============================] - 5s 110us/step - loss: 0.0427 - accuracy: 0.9860 - val_loss: 4.4422 - val_accuracy: 0.5225\n",
      "Epoch 99/100\n",
      "50000/50000 [==============================] - 5s 110us/step - loss: 0.0485 - accuracy: 0.9854 - val_loss: 4.2924 - val_accuracy: 0.5259\n",
      "Epoch 100/100\n",
      "50000/50000 [==============================] - 6s 112us/step - loss: 0.0539 - accuracy: 0.9831 - val_loss: 4.2489 - val_accuracy: 0.5248\n"
     ]
    },
    {
     "data": {
      "text/plain": [
       "<keras.callbacks.callbacks.History at 0x23c0da3c358>"
      ]
     },
     "execution_count": 10,
     "metadata": {},
     "output_type": "execute_result"
    }
   ],
   "source": [
    "model.fit(x_train, y_train, \n",
    "          epochs=EPOCHS, \n",
    "          batch_size=BATCH_SIZE, \n",
    "          validation_data=(x_test, y_test), \n",
    "          shuffle=True)"
   ]
  },
  {
   "cell_type": "code",
   "execution_count": 12,
   "metadata": {},
   "outputs": [
    {
     "data": {
      "image/png": "[encoded data removed]",
      "text/plain": [
       "<Figure size 432x288 with 1 Axes>"
      ]
     },
     "metadata": {
      "needs_background": "light"
     },
     "output_type": "display_data"
    },
    {
     "data": {
      "image/png": "[encoded data removed]",
      "text/plain": [
       "<Figure size 432x288 with 1 Axes>"
      ]
     },
     "metadata": {
      "needs_background": "light"
     },
     "output_type": "display_data"
    }
   ],
   "source": [
    "import matplotlib.pyplot as plt\n",
    "\n",
    "\n",
    "train_loss = model.history.history[\"loss\"]\n",
    "valid_loss = model.history.history[\"val_loss\"]\n",
    "\n",
    "train_acc = model.history.history[\"accuracy\"]\n",
    "valid_acc = model.history.history[\"val_accuracy\"]\n",
    "\n",
    "plt.plot(range(len(train_loss)), train_loss, label=\"train loss\")\n",
    "plt.plot(range(len(valid_loss)), valid_loss, label=\"valid loss\")\n",
    "plt.legend()\n",
    "plt.title(\"Loss\")\n",
    "plt.show()\n",
    "\n",
    "plt.plot(range(len(train_acc)), train_acc, label=\"train accuracy\")\n",
    "plt.plot(range(len(valid_acc)), valid_acc, label=\"valid accuracy\")\n",
    "plt.legend()\n",
    "plt.title(\"Accuracy\")\n",
    "plt.show()"
   ]
  },
  {
   "cell_type": "code",
   "execution_count": null,
   "metadata": {},
   "outputs": [],
   "source": []
  }
 ],
 "metadata": {
  "kernelspec": {
   "display_name": "Python 3",
   "language": "python",
   "name": "python3"
  },
  "language_info": {
   "codemirror_mode": {
    "name": "ipython",
    "version": 3
   },
   "file_extension": ".py",
   "mimetype": "text/x-python",
   "name": "python",
   "nbconvert_exporter": "python",
   "pygments_lexer": "ipython3",
   "version": "3.7.3"
  }
 },
 "nbformat": 4,
 "nbformat_minor": 2
}
