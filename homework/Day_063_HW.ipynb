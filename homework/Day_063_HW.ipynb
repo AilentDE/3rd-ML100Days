{
 "cells": [
  {
   "cell_type": "markdown",
   "metadata": {},
   "source": [
    "# 作業\n",
    "* 在精簡深度學習的方式上 : 卷積類神經 (CNN) 採用像素遠近，而遞歸類神經 (RNN) 採用著則是時間遠近\n",
    "* 那麼，既然有著類似的設計精神，兩者是否有可能互換應用呢?"
   ]
  },
  {
   "cell_type": "markdown",
   "metadata": {
    "collapsed": true
   },
   "source": [
    "#### 可以。\n",
    "用CNN做特徵提取，再以此使用RNN做圖片標註。  \n",
    "又或者反向RNN提取特徵後給CNN做視頻分類。  \n",
    "畢竟這兩者是同樣精神與不同面向的應用，結合起來可以做到更高層次的使用。"
   ]
  },
  {
   "cell_type": "code",
   "execution_count": null,
   "metadata": {},
   "outputs": [],
   "source": []
  }
 ],
 "metadata": {
  "kernelspec": {
   "display_name": "Python 3",
   "language": "python",
   "name": "python3"
  },
  "language_info": {
   "codemirror_mode": {
    "name": "ipython",
    "version": 3
   },
   "file_extension": ".py",
   "mimetype": "text/x-python",
   "name": "python",
   "nbconvert_exporter": "python",
   "pygments_lexer": "ipython3",
   "version": "3.7.3"
  }
 },
 "nbformat": 4,
 "nbformat_minor": 2
}
