{
 "cells": [
  {
   "cell_type": "markdown",
   "metadata": {},
   "source": [
    "## Work\n",
    "1. 請嘗試寫一個 callback 用來記錄各類別在訓練過程中，對驗證集的 True Positive 與 True Negative"
   ]
  },
  {
   "cell_type": "code",
   "execution_count": 1,
   "metadata": {},
   "outputs": [
    {
     "name": "stderr",
     "output_type": "stream",
     "text": [
      "Using TensorFlow backend.\n"
     ]
    }
   ],
   "source": [
    "import os\n",
    "import keras\n",
    "\n",
    "# Disable GPU\n",
    "os.environ[\"CUDA_VISIBLE_DEVICES\"] = \"\""
   ]
  },
  {
   "cell_type": "code",
   "execution_count": 2,
   "metadata": {},
   "outputs": [],
   "source": [
    "train, test = keras.datasets.cifar10.load_data()"
   ]
  },
  {
   "cell_type": "code",
   "execution_count": 3,
   "metadata": {},
   "outputs": [],
   "source": [
    "## 資料前處理\n",
    "def preproc_x(x, flatten=True):\n",
    "    x = x / 255.\n",
    "    if flatten:\n",
    "        x = x.reshape((len(x), -1))\n",
    "    return x\n",
    "\n",
    "def preproc_y(y, num_classes=10):\n",
    "    if y.shape[-1] == 1:\n",
    "        y = keras.utils.to_categorical(y, num_classes)\n",
    "    return y    "
   ]
  },
  {
   "cell_type": "code",
   "execution_count": 4,
   "metadata": {},
   "outputs": [],
   "source": [
    "x_train, y_train = train\n",
    "x_test, y_test = test\n",
    "\n",
    "# Preproc the inputs\n",
    "x_train = preproc_x(x_train)\n",
    "x_test = preproc_x(x_test)\n",
    "\n",
    "# Preprc the outputs\n",
    "y_train = preproc_y(y_train)\n",
    "y_test = preproc_y(y_test)"
   ]
  },
  {
   "cell_type": "code",
   "execution_count": 5,
   "metadata": {},
   "outputs": [],
   "source": [
    "from keras.layers import BatchNormalization\n",
    "def build_mlp(input_shape, output_units=10, num_neurons=[256, 256, 256]):\n",
    "    \"\"\"Code Here\n",
    "    建立你的神經網路\n",
    "    \"\"\"\n",
    "    input_layer = keras.layers.Input(input_shape)\n",
    "    \n",
    "    for i, n_units in enumerate(num_neurons):\n",
    "        if i == 0:\n",
    "            x = keras.layers.Dense(units=n_units, \n",
    "                                   activation=\"relu\", \n",
    "                                   name=\"hidden_layer\"+str(i+1))(input_layer)\n",
    "            x = BatchNormalization()(x)\n",
    "        else:\n",
    "            x = keras.layers.Dense(units=n_units, \n",
    "                                   activation=\"relu\", \n",
    "                                   name=\"hidden_layer\"+str(i+1))(x)\n",
    "            x = BatchNormalization()(x)\n",
    "    \n",
    "    out = keras.layers.Dense(units=output_units, activation=\"softmax\", name=\"output\")(x)\n",
    "    \n",
    "    model = keras.models.Model(inputs=[input_layer], outputs=[out])\n",
    "    return model"
   ]
  },
  {
   "cell_type": "code",
   "execution_count": 6,
   "metadata": {},
   "outputs": [],
   "source": [
    "## 超參數設定\n",
    "LEARNING_RATE = 1e-3\n",
    "EPOCHS = 25\n",
    "BATCH_SIZE = 1024\n",
    "MOMENTUM = 0.95"
   ]
  },
  {
   "cell_type": "code",
   "execution_count": 8,
   "metadata": {},
   "outputs": [],
   "source": [
    "# 載入 Callbacks\n",
    "from keras.callbacks import Callback\n",
    "from sklearn.metrics import f1_score\n",
    "\n",
    "# Record_fp_tp\n",
    "class f1sc(Callback):\n",
    "    \"\"\"Code Here\n",
    "    撰寫一個紀錄 ture positive 與 true negative 數量的 callbacks    \n",
    "    \"\"\"\n",
    "    def on_train_begin(self, epoch, logs = {}):\n",
    "        logs = logs or {}\n",
    "        record_items = [\"val_auc\", \"val_f1sc\", \"val_fp\", \"val_fn\", \"val_tp\", \"val_tn\"]\n",
    "        for i in record_items:\n",
    "            if i not in self.params['metrics']:\n",
    "                self.params['metrics'].append(i)\n",
    "    \n",
    "    def on_epoch_end(self, epoch, logs = {}, thres=0.5):\n",
    "        logs = logs or {}\n",
    "        y_true = self.validation_data[1].argmax(axis = 1)\n",
    "        y_pred = self.model.predict(self.validation_data[0])\n",
    "        y_pred = (y_pred[:, 1] >= thres) * 1\n",
    "        \n",
    "        logs[\"val_f1sc\"] = f1_score(y_true = y_true, y_pred = y_pred, average=\"weighted\")\n",
    "        \n",
    "log_f1sc = f1sc()        \n",
    "# rec_tptn = Record_tp_tn()"
   ]
  },
  {
   "cell_type": "code",
   "execution_count": 9,
   "metadata": {
    "scrolled": true
   },
   "outputs": [
    {
     "name": "stdout",
     "output_type": "stream",
     "text": [
      "Model: \"model_1\"\n",
      "_________________________________________________________________\n",
      "Layer (type)                 Output Shape              Param #   \n",
      "=================================================================\n",
      "input_1 (InputLayer)         (None, 3072)              0         \n",
      "_________________________________________________________________\n",
      "hidden_layer1 (Dense)        (None, 256)               786688    \n",
      "_________________________________________________________________\n",
      "batch_normalization_1 (Batch (None, 256)               1024      \n",
      "_________________________________________________________________\n",
      "hidden_layer2 (Dense)        (None, 256)               65792     \n",
      "_________________________________________________________________\n",
      "batch_normalization_2 (Batch (None, 256)               1024      \n",
      "_________________________________________________________________\n",
      "hidden_layer3 (Dense)        (None, 256)               65792     \n",
      "_________________________________________________________________\n",
      "batch_normalization_3 (Batch (None, 256)               1024      \n",
      "_________________________________________________________________\n",
      "output (Dense)               (None, 10)                2570      \n",
      "=================================================================\n",
      "Total params: 923,914\n",
      "Trainable params: 922,378\n",
      "Non-trainable params: 1,536\n",
      "_________________________________________________________________\n",
      "Train on 50000 samples, validate on 10000 samples\n",
      "Epoch 1/25\n",
      "50000/50000 [==============================] - 4s 77us/step - loss: 2.2437 - accuracy: 0.2597 - val_loss: 2.1491 - val_accuracy: 0.2001\n",
      "Epoch 2/25\n",
      " 2048/50000 [>.............................] - ETA: 2s - loss: 1.8331 - accuracy: 0.3618"
     ]
    },
    {
     "name": "stderr",
     "output_type": "stream",
     "text": [
      "C:\\Users\\camer\\Anaconda3\\lib\\site-packages\\sklearn\\metrics\\classification.py:1437: UndefinedMetricWarning: F-score is ill-defined and being set to 0.0 in labels with no predicted samples.\n",
      "  'precision', 'predicted', average, warn_for)\n"
     ]
    },
    {
     "name": "stdout",
     "output_type": "stream",
     "text": [
      "50000/50000 [==============================] - 3s 67us/step - loss: 1.7741 - accuracy: 0.3796 - val_loss: 1.9793 - val_accuracy: 0.3155\n",
      "Epoch 3/25\n",
      "50000/50000 [==============================] - 3s 68us/step - loss: 1.6464 - accuracy: 0.4227 - val_loss: 1.8421 - val_accuracy: 0.3634\n",
      "Epoch 4/25\n",
      "50000/50000 [==============================] - 3s 66us/step - loss: 1.5731 - accuracy: 0.4484 - val_loss: 1.7147 - val_accuracy: 0.4098\n",
      "Epoch 5/25\n",
      "50000/50000 [==============================] - 4s 75us/step - loss: 1.5178 - accuracy: 0.4689 - val_loss: 1.6388 - val_accuracy: 0.4336\n",
      "Epoch 6/25\n",
      "50000/50000 [==============================] - 3s 67us/step - loss: 1.4738 - accuracy: 0.4853 - val_loss: 1.5914 - val_accuracy: 0.4486\n",
      "Epoch 7/25\n",
      "50000/50000 [==============================] - 3s 64us/step - loss: 1.4361 - accuracy: 0.5000 - val_loss: 1.5552 - val_accuracy: 0.4537\n",
      "Epoch 8/25\n",
      "50000/50000 [==============================] - 3s 63us/step - loss: 1.4046 - accuracy: 0.5107 - val_loss: 1.5334 - val_accuracy: 0.4623\n",
      "Epoch 9/25\n",
      "50000/50000 [==============================] - 3s 66us/step - loss: 1.3750 - accuracy: 0.5210 - val_loss: 1.5165 - val_accuracy: 0.4717\n",
      "Epoch 10/25\n",
      "50000/50000 [==============================] - 3s 63us/step - loss: 1.3477 - accuracy: 0.5304 - val_loss: 1.5037 - val_accuracy: 0.4707\n",
      "Epoch 11/25\n",
      "50000/50000 [==============================] - 3s 63us/step - loss: 1.3225 - accuracy: 0.5398 - val_loss: 1.4944 - val_accuracy: 0.4774\n",
      "Epoch 12/25\n",
      "50000/50000 [==============================] - 3s 64us/step - loss: 1.2978 - accuracy: 0.5483 - val_loss: 1.4934 - val_accuracy: 0.4792\n",
      "Epoch 13/25\n",
      "50000/50000 [==============================] - 4s 70us/step - loss: 1.2755 - accuracy: 0.5571 - val_loss: 1.4725 - val_accuracy: 0.4829\n",
      "Epoch 14/25\n",
      "50000/50000 [==============================] - 4s 70us/step - loss: 1.2532 - accuracy: 0.5641 - val_loss: 1.4778 - val_accuracy: 0.4822\n",
      "Epoch 15/25\n",
      "50000/50000 [==============================] - 3s 65us/step - loss: 1.2320 - accuracy: 0.5720 - val_loss: 1.4816 - val_accuracy: 0.4796\n",
      "Epoch 16/25\n",
      "50000/50000 [==============================] - 3s 65us/step - loss: 1.2137 - accuracy: 0.5801 - val_loss: 1.4660 - val_accuracy: 0.4867\n",
      "Epoch 17/25\n",
      "50000/50000 [==============================] - 3s 65us/step - loss: 1.1938 - accuracy: 0.5863 - val_loss: 1.4581 - val_accuracy: 0.4896\n",
      "Epoch 18/25\n",
      "50000/50000 [==============================] - 3s 64us/step - loss: 1.1737 - accuracy: 0.5952 - val_loss: 1.4588 - val_accuracy: 0.4905\n",
      "Epoch 19/25\n",
      "50000/50000 [==============================] - 3s 65us/step - loss: 1.1561 - accuracy: 0.5998 - val_loss: 1.4630 - val_accuracy: 0.4917\n",
      "Epoch 20/25\n",
      "50000/50000 [==============================] - 3s 65us/step - loss: 1.1386 - accuracy: 0.6056 - val_loss: 1.4496 - val_accuracy: 0.4911\n",
      "Epoch 21/25\n",
      "50000/50000 [==============================] - 3s 64us/step - loss: 1.1210 - accuracy: 0.6146 - val_loss: 1.4613 - val_accuracy: 0.4855\n",
      "Epoch 22/25\n",
      "50000/50000 [==============================] - 3s 64us/step - loss: 1.1038 - accuracy: 0.6209 - val_loss: 1.4580 - val_accuracy: 0.4921\n",
      "Epoch 23/25\n",
      "50000/50000 [==============================] - 3s 64us/step - loss: 1.0868 - accuracy: 0.6272 - val_loss: 1.4764 - val_accuracy: 0.4866\n",
      "Epoch 24/25\n",
      "50000/50000 [==============================] - 3s 67us/step - loss: 1.0690 - accuracy: 0.6358 - val_loss: 1.4549 - val_accuracy: 0.4915\n",
      "Epoch 25/25\n",
      "50000/50000 [==============================] - 3s 65us/step - loss: 1.0525 - accuracy: 0.6417 - val_loss: 1.4589 - val_accuracy: 0.4906\n"
     ]
    }
   ],
   "source": [
    "model = build_mlp(input_shape=x_train.shape[1:])\n",
    "model.summary()\n",
    "optimizer = keras.optimizers.SGD(lr=LEARNING_RATE, nesterov=True, momentum=MOMENTUM)\n",
    "model.compile(loss=\"categorical_crossentropy\", metrics=[\"accuracy\"], optimizer=optimizer)\n",
    "\n",
    "\"\"\"Code Here\n",
    "將 callbacks 放入模型訓練流程中\n",
    "\"\"\"\n",
    "model.fit(x_train, y_train, \n",
    "          epochs=EPOCHS, \n",
    "          batch_size=BATCH_SIZE, \n",
    "          validation_data=(x_test, y_test), \n",
    "          shuffle=True,\n",
    "          callbacks=[log_f1sc]\n",
    "         )\n",
    "\n",
    "# Collect results\n",
    "train_loss = model.history.history[\"loss\"]\n",
    "valid_loss = model.history.history[\"val_loss\"]\n",
    "train_acc = model.history.history[\"accuracy\"]\n",
    "valid_acc = model.history.history[\"val_accuracy\"]\n",
    "\n",
    "\"\"\"Code Here\n",
    "將 tp/tn 從訓練完的模型中取出\n",
    "\"\"\"\n",
    "valid_f1sc = model.history.history['val_f1sc']\n",
    "# valid_tp = \n",
    "# valid_tn = "
   ]
  },
  {
   "cell_type": "code",
   "execution_count": 11,
   "metadata": {},
   "outputs": [
    {
     "data": {
      "image/png": "[encoded data removed]",
      "text/plain": [
       "<Figure size 432x288 with 1 Axes>"
      ]
     },
     "metadata": {
      "needs_background": "light"
     },
     "output_type": "display_data"
    },
    {
     "data": {
      "image/png": "[encoded data removed]",
      "text/plain": [
       "<Figure size 432x288 with 1 Axes>"
      ]
     },
     "metadata": {
      "needs_background": "light"
     },
     "output_type": "display_data"
    },
    {
     "data": {
      "image/png": "[encoded data removed]",
      "text/plain": [
       "<Figure size 432x288 with 1 Axes>"
      ]
     },
     "metadata": {
      "needs_background": "light"
     },
     "output_type": "display_data"
    }
   ],
   "source": [
    "import matplotlib.pyplot as plt\n",
    "%matplotlib inline\n",
    "\n",
    "plt.plot(range(len(train_loss)), train_loss, label=\"train loss\")\n",
    "plt.plot(range(len(valid_loss)), valid_loss, label=\"valid loss\")\n",
    "plt.legend()\n",
    "plt.title(\"Loss\")\n",
    "plt.show()\n",
    "\n",
    "plt.plot(range(len(train_acc)), train_acc, label=\"train accuracy\")\n",
    "plt.plot(range(len(valid_acc)), valid_acc, label=\"valid accuracy\")\n",
    "plt.legend()\n",
    "plt.title(\"Accuracy\")\n",
    "plt.show()\n",
    "\n",
    "plt.plot(range(len(valid_f1sc)), valid_f1sc, label=\"valid f1-score\")\n",
    "plt.legend()\n",
    "plt.title(\"F1-score\")\n",
    "plt.show()\n"
   ]
  },
  {
   "cell_type": "code",
   "execution_count": null,
   "metadata": {},
   "outputs": [],
   "source": []
  }
 ],
 "metadata": {
  "kernelspec": {
   "display_name": "Python 3",
   "language": "python",
   "name": "python3"
  },
  "language_info": {
   "codemirror_mode": {
    "name": "ipython",
    "version": 3
   },
   "file_extension": ".py",
   "mimetype": "text/x-python",
   "name": "python",
   "nbconvert_exporter": "python",
   "pygments_lexer": "ipython3",
   "version": "3.7.3"
  }
 },
 "nbformat": 4,
 "nbformat_minor": 2
}
