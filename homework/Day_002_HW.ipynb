{
 "cells": [
  {
   "cell_type": "markdown",
   "metadata": {},
   "source": [
    "## [作業目標]\n",
    "了解機器學習適合應用的領域與範疇。"
   ]
  },
  {
   "cell_type": "markdown",
   "metadata": {},
   "source": [
    "## [作業重點]\n",
    "透過瞭解機器學習的運作方式，找出非常適用機器學習應用的領域及其原因"
   ]
  },
  {
   "cell_type": "markdown",
   "metadata": {},
   "source": [
    "## 作業\n",
    "請找出一個你認為機器學習可以發光發熱的領域並闡述原因? "
   ]
  },
  {
   "cell_type": "markdown",
   "metadata": {},
   "source": [
    "#### 市場開發及營運程序管理優化（以我自身桌遊業界為例）  \n",
    "　　機器學習可以看出各個特徵互相的影響程度，並且做出預測結果。在需要追求市場預測的任何產業來說想必都會是未來不可缺少的助力。  \n",
    "　　打些比方：\n",
    "1. 以過往場次上的熱門主題，我們會以自身經驗去隱約查覺到這些主題日呼以某種關係循環出現；那麼以機器學習的角度，這可能是根據上次活動的熱門大宗主題、加上這段期間出現的某些活動興起、或是某些作品的推出導致這次的結果出現。那麼這些因素(feature)的互相關係及影響，理論上可以藉由機器學習來進行推測。畢竟市場上確實有不少人因為主題而購買產品，這部分也可以用資料分析更進一步找出決策目標。　　\n",
    "2. 在公司產品的製作過程中，會因為產品設計的複雜度、配件、包裝方式及數量等等影響製作時程的增加，透過對工廠的過往資料分析，像是：負責人、使用材料、產線活動效率、工序數，我們可以估計出較為準確的專案時程，以確保交貨不天窗。\n",
    "3. 另一方面，也可以藉由相當數量的資料去做出更迅速的估價系統，節省人力的計算與錯誤率。\n",
    "\n",
    "　　結果相當明顯，僅僅是監督是學習就能做到市場上大部分需求，未來還有深度學習來增加預測精確度想必能更確實發展大數據時代。"
   ]
  },
  {
   "cell_type": "code",
   "execution_count": null,
   "metadata": {},
   "outputs": [],
   "source": []
  }
 ],
 "metadata": {
  "kernelspec": {
   "display_name": "Python 3",
   "language": "python",
   "name": "python3"
  },
  "language_info": {
   "codemirror_mode": {
    "name": "ipython",
    "version": 3
   },
   "file_extension": ".py",
   "mimetype": "text/x-python",
   "name": "python",
   "nbconvert_exporter": "python",
   "pygments_lexer": "ipython3",
   "version": "3.7.3"
  }
 },
 "nbformat": 4,
 "nbformat_minor": 2
}
